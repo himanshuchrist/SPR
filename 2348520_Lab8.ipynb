{
 "cells": [
  {
   "cell_type": "markdown",
   "id": "694ef67a-292a-4d40-8348-e672d1caedfc",
   "metadata": {},
   "source": [
    "## Viterbi Algorithm"
   ]
  },
  {
   "cell_type": "markdown",
   "id": "323e8842-1341-466f-9718-3fab53ee24f4",
   "metadata": {},
   "source": [
    "### Intialisation"
   ]
  },
  {
   "cell_type": "code",
   "execution_count": 1,
   "id": "34bfa4be-3e34-471f-91cc-66264f0b921d",
   "metadata": {},
   "outputs": [],
   "source": [
    "import numpy as np\n",
    "\n",
    "states = [\"S1 (/h/)\", \"S2 (/e/)\", \"S3 (/l/)\", \"S4 (/o/)\"]\n",
    "observations = [\"O1\", \"O2\", \"O3\", \"O4\"]\n",
    "\n",
    "A = np.array([\n",
    "    [0.0, 0.7, 0.3, 0.0],\n",
    "    [0.0, 0.2, 0.6, 0.2],\n",
    "    [0.0, 0.0, 0.3, 0.7],\n",
    "    [0.0, 0.0, 0.1, 0.9]\n",
    "])\n",
    "\n",
    "B = np.array([\n",
    "    [0.6, 0.2, 0.1, 0.1],  \n",
    "    [0.1, 0.7, 0.1, 0.1],  \n",
    "    [0.1, 0.1, 0.6, 0.2],  \n",
    "    [0.2, 0.1, 0.2, 0.5]   \n",
    "])\n",
    "\n",
    "pi = np.array([1.0, 0.0, 0.0, 0.0])\n",
    "\n",
    "O_seq = [0, 1, 2, 3]  "
   ]
  },
  {
   "cell_type": "code",
   "execution_count": 2,
   "id": "3c2947ae-6071-494a-84a6-0f2bb2607965",
   "metadata": {},
   "outputs": [],
   "source": [
    "def viterbi(O_seq, A, B, pi):\n",
    "    n_states = A.shape[0]\n",
    "    T = len(O_seq)\n",
    "    \n",
    "    dp = np.zeros((n_states, T))  \n",
    "    path = np.zeros((n_states, T), dtype=int)\n",
    "    \n",
    "    dp[:, 0] = pi * B[:, O_seq[0]]\n",
    "    \n",
    "    for t in range(1, T):\n",
    "        for j in range(n_states):\n",
    "            probabilities = dp[:, t-1] * A[:, j] * B[j, O_seq[t]]\n",
    "            dp[j, t] = np.max(probabilities)\n",
    "            path[j, t] = np.argmax(probabilities)\n",
    "    \n",
    "    final_state = np.argmax(dp[:, -1])\n",
    "    max_prob = dp[final_state, -1]\n",
    "    \n",
    "    best_path = []\n",
    "    current_state = final_state\n",
    "    for t in range(T-1, -1, -1):\n",
    "        best_path.insert(0, current_state)\n",
    "        current_state = path[current_state, t]\n",
    "    \n",
    "    return best_path, max_prob"
   ]
  },
  {
   "cell_type": "code",
   "execution_count": 3,
   "id": "cf0673d2-accd-455a-bf4b-5b1bcc48aec1",
   "metadata": {},
   "outputs": [
    {
     "name": "stdout",
     "output_type": "stream",
     "text": [
      "Most Likely Sequence of States: ['S1 (/h/)', 'S2 (/e/)', 'S3 (/l/)', 'S4 (/o/)']\n",
      "Probability of the Most Likely Sequence: 0.03704399999999999\n"
     ]
    }
   ],
   "source": [
    "best_path_indices, max_prob = viterbi(O_seq, A, B, pi)\n",
    "best_path = [states[i] for i in best_path_indices]\n",
    "print(\"Most Likely Sequence of States:\", best_path)\n",
    "print(\"Probability of the Most Likely Sequence:\", max_prob)"
   ]
  },
  {
   "cell_type": "markdown",
   "id": "a47e5a79-53c9-43a7-b9a3-8be03ff94656",
   "metadata": {},
   "source": [
    "### Inference"
   ]
  },
  {
   "cell_type": "markdown",
   "id": "2f014a98-7170-4a6f-8486-4d33a7765aa7",
   "metadata": {},
   "source": [
    "The Viterbi Algorithm identifies the sequence /h/, /e/, /l/, /o/ as the most probable phoneme sequence for the given observation sequence [O1, O2, O3, O4]."
   ]
  },
  {
   "cell_type": "markdown",
   "id": "b5134afc-7ac4-4911-a13d-6439c23c76e2",
   "metadata": {},
   "source": [
    "The computed probability of the sequence is approximately 0.037, which is the highest likelihood among all possible phoneme sequences."
   ]
  },
  {
   "cell_type": "markdown",
   "id": "1b03e77b-de41-47f1-b57c-4f98d7c84510",
   "metadata": {},
   "source": [
    "The alignment of the states and observations is consistent with the expected phoneme transitions, showcasing the capability of the Viterbi Algorithm to decode hidden states in a sequential manner."
   ]
  },
  {
   "cell_type": "markdown",
   "id": "62a62996-bc5a-40ba-92ae-447f85b76900",
   "metadata": {},
   "source": [
    "## END"
   ]
  }
 ],
 "metadata": {
  "kernelspec": {
   "display_name": "Python 3 (ipykernel)",
   "language": "python",
   "name": "python3"
  },
  "language_info": {
   "codemirror_mode": {
    "name": "ipython",
    "version": 3
   },
   "file_extension": ".py",
   "mimetype": "text/x-python",
   "name": "python",
   "nbconvert_exporter": "python",
   "pygments_lexer": "ipython3",
   "version": "3.11.7"
  }
 },
 "nbformat": 4,
 "nbformat_minor": 5
}
